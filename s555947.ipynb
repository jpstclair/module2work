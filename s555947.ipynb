{
 "cells": [
  {
   "cell_type": "markdown",
   "id": "ac3b121e-9393-4015-9cc3-4e0cad8c0cca",
   "metadata": {},
   "source": [
    "### James StClair"
   ]
  },
  {
   "cell_type": "markdown",
   "id": "398f2413-d90d-44ea-ac6d-69e34bcd22ac",
   "metadata": {},
   "source": [
    "Create a new Jupyter Notebook (the name of the notebook should be your S number). Add a Markdown cell that contains your name. Add a Code cell and write Python that uses loops to draw the following pattern:\n",
    "*      *\n",
    "**    **\n",
    "***  ***\n",
    "********\n",
    "Make sure to add and submit both the new notebook and the changes to this notebook for this assignment."
   ]
  },
  {
   "cell_type": "code",
   "execution_count": 6,
   "id": "1802b6c4-6a10-48e1-9595-4595ce6878d7",
   "metadata": {},
   "outputs": [
    {
     "name": "stdout",
     "output_type": "stream",
     "text": [
      "                \n",
      "*             * \n",
      "* *         * * \n",
      "* * *     * * * \n",
      "* * * * * * * * \n"
     ]
    }
   ],
   "source": [
    "n = 4\n",
    "row = n\n",
    "while (row >= 0) :\n",
    "    col = n\n",
    "    while (col > row) :\n",
    "        print(\"* \", end =\"\")\n",
    "        col -= 1        \n",
    "    col = 1\n",
    "    while (col <= 4 * row) :\n",
    "        print(\" \", end =\"\")\n",
    "        col += 1      \n",
    "    col = row + 1\n",
    "    while (col <= n) :\n",
    "        print(\"* \", end =\"\")\n",
    "        col += 1     \n",
    "    print()\n",
    "    row -= 1"
   ]
  },
  {
   "cell_type": "code",
   "execution_count": null,
   "id": "b44b20f4-6b43-4e0a-8f56-4ddf45165c32",
   "metadata": {},
   "outputs": [],
   "source": []
  }
 ],
 "metadata": {
  "kernelspec": {
   "display_name": "Python 3 (ipykernel)",
   "language": "python",
   "name": "python3"
  },
  "language_info": {
   "codemirror_mode": {
    "name": "ipython",
    "version": 3
   },
   "file_extension": ".py",
   "mimetype": "text/x-python",
   "name": "python",
   "nbconvert_exporter": "python",
   "pygments_lexer": "ipython3",
   "version": "3.9.12"
  }
 },
 "nbformat": 4,
 "nbformat_minor": 5
}
